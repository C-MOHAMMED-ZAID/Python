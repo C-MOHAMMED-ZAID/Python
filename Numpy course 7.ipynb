{
 "cells": [
  {
   "cell_type": "code",
   "execution_count": 1,
   "id": "ac69d8dd",
   "metadata": {},
   "outputs": [],
   "source": [
    "import numpy as np"
   ]
  },
  {
   "cell_type": "code",
   "execution_count": 2,
   "id": "679b7bf8",
   "metadata": {},
   "outputs": [
    {
     "name": "stdout",
     "output_type": "stream",
     "text": [
      "[1 2 3 4 5 6]\n"
     ]
    }
   ],
   "source": [
    "arr=np.array([1,1,2,2,3,3,4,5,6])\n",
    "print(np.unique(arr))"
   ]
  },
  {
   "cell_type": "code",
   "execution_count": 3,
   "id": "7bbe8d0e",
   "metadata": {},
   "outputs": [
    {
     "name": "stdout",
     "output_type": "stream",
     "text": [
      "[1 2 3 4 5 6]\n",
      "[2 2 2 1 1 1]\n"
     ]
    }
   ],
   "source": [
    "arr=np.array([1,1,2,2,3,3,4,5,6])\n",
    "uniques,counts=np.unique(arr,return_counts=True)\n",
    "print(uniques)\n",
    "print(counts)"
   ]
  },
  {
   "cell_type": "code",
   "execution_count": 4,
   "id": "82c8a24a",
   "metadata": {},
   "outputs": [
    {
     "name": "stdout",
     "output_type": "stream",
     "text": [
      "[3 4 5]\n"
     ]
    }
   ],
   "source": [
    "arr1=np.array([1,2,3,4,5])\n",
    "arr2=np.array([3,4,5,6,7])\n",
    "\n",
    "print(np.intersect1d(arr1,arr2))"
   ]
  },
  {
   "cell_type": "code",
   "execution_count": 5,
   "id": "1fa1839e",
   "metadata": {},
   "outputs": [
    {
     "name": "stdout",
     "output_type": "stream",
     "text": [
      "[1 2 3 4 5 6 7]\n"
     ]
    }
   ],
   "source": [
    "print(np.union1d(arr1,arr2))"
   ]
  },
  {
   "cell_type": "code",
   "execution_count": 6,
   "id": "273dc609",
   "metadata": {},
   "outputs": [
    {
     "name": "stdout",
     "output_type": "stream",
     "text": [
      "[False False  True  True  True]\n"
     ]
    }
   ],
   "source": [
    "print(np.in1d(arr1,arr2))"
   ]
  },
  {
   "cell_type": "code",
   "execution_count": 7,
   "id": "07798b5c",
   "metadata": {},
   "outputs": [
    {
     "name": "stdout",
     "output_type": "stream",
     "text": [
      "[False False  True  True  True]\n"
     ]
    }
   ],
   "source": [
    "print(np.isin(arr1,arr2))"
   ]
  },
  {
   "cell_type": "code",
   "execution_count": 8,
   "id": "d55c8d64",
   "metadata": {},
   "outputs": [
    {
     "name": "stdout",
     "output_type": "stream",
     "text": [
      "[1 2]\n"
     ]
    }
   ],
   "source": [
    "print(np.setdiff1d(arr1,arr2))"
   ]
  },
  {
   "cell_type": "code",
   "execution_count": 9,
   "id": "26ebd76e",
   "metadata": {},
   "outputs": [
    {
     "name": "stdout",
     "output_type": "stream",
     "text": [
      "[1 2 6 7]\n"
     ]
    }
   ],
   "source": [
    "print(np.setxor1d(arr1,arr2))"
   ]
  },
  {
   "cell_type": "code",
   "execution_count": 13,
   "id": "039fa84e",
   "metadata": {},
   "outputs": [
    {
     "name": "stdout",
     "output_type": "stream",
     "text": [
      "[[0.37557548 0.60755363 0.7065072  0.41703573 0.53447388]\n",
      " [0.11923345 0.99428844 0.01236094 0.42637461 0.78294097]\n",
      " [0.23403699 0.76070948 0.80613961 0.79466468 0.76548607]\n",
      " [0.95630842 0.90243497 0.4943685  0.21447014 0.6068229 ]\n",
      " [0.68708484 0.36983395 0.44200371 0.24870475 0.80025019]]\n",
      "[[0.09470371 0.88954175 0.62825541 0.52816437 0.31263423]\n",
      " [0.85589153 0.48125562 0.90407357 0.68570842 0.60077807]\n",
      " [0.30185826 0.06911906 0.0952749  0.11416513 0.64649206]\n",
      " [0.16565867 0.11308715 0.78631494 0.43451139 0.18999708]\n",
      " [0.30490422 0.42849818 0.12176108 0.74562844 0.03213944]]\n"
     ]
    }
   ],
   "source": [
    "arr1=np.random.rand(5,5)\n",
    "arr2=np.random.rand(5,5)\n",
    "print(arr1)\n",
    "print(arr2)"
   ]
  },
  {
   "cell_type": "code",
   "execution_count": 14,
   "id": "6e1a02de",
   "metadata": {},
   "outputs": [
    {
     "name": "stdout",
     "output_type": "stream",
     "text": [
      "[[1.00088235 0.95149425 1.24554245 1.27535441 1.03558721]\n",
      " [1.17538081 0.96913067 1.40559311 1.51522568 0.74878761]\n",
      " [1.28163189 1.04787675 1.62964033 1.65332697 1.22693467]\n",
      " [1.23273332 1.60342478 1.70630294 1.72598907 1.22099484]\n",
      " [0.80022945 1.19075726 1.10113331 1.37170774 0.79571902]]\n"
     ]
    }
   ],
   "source": [
    "print(arr1.dot(arr2))"
   ]
  },
  {
   "cell_type": "code",
   "execution_count": 15,
   "id": "785396ef",
   "metadata": {},
   "outputs": [
    {
     "name": "stdout",
     "output_type": "stream",
     "text": [
      "[[1.00088235 0.95149425 1.24554245 1.27535441 1.03558721]\n",
      " [1.17538081 0.96913067 1.40559311 1.51522568 0.74878761]\n",
      " [1.28163189 1.04787675 1.62964033 1.65332697 1.22693467]\n",
      " [1.23273332 1.60342478 1.70630294 1.72598907 1.22099484]\n",
      " [0.80022945 1.19075726 1.10113331 1.37170774 0.79571902]]\n"
     ]
    }
   ],
   "source": [
    "print(np.dot(arr1,arr2))"
   ]
  },
  {
   "cell_type": "code",
   "execution_count": 16,
   "id": "a7b1bd3d",
   "metadata": {},
   "outputs": [
    {
     "name": "stdout",
     "output_type": "stream",
     "text": [
      "[[1.00088235 0.95149425 1.24554245 1.27535441 1.03558721]\n",
      " [1.17538081 0.96913067 1.40559311 1.51522568 0.74878761]\n",
      " [1.28163189 1.04787675 1.62964033 1.65332697 1.22693467]\n",
      " [1.23273332 1.60342478 1.70630294 1.72598907 1.22099484]\n",
      " [0.80022945 1.19075726 1.10113331 1.37170774 0.79571902]]\n"
     ]
    }
   ],
   "source": [
    "print(arr1@arr2)"
   ]
  },
  {
   "cell_type": "code",
   "execution_count": 17,
   "id": "82c1774b",
   "metadata": {},
   "outputs": [
    {
     "name": "stdout",
     "output_type": "stream",
     "text": [
      "[[-0.3942341  -0.53675613  0.65955574  0.06084125 -0.34315725]\n",
      " [-0.30793622 -0.62043169 -0.4862734  -0.43090771  0.31320365]\n",
      " [-0.54824117  0.04375756 -0.41255039  0.71866506 -0.10411342]\n",
      " [-0.45749425  0.44140999 -0.14384147 -0.53615812 -0.53637705]\n",
      " [-0.48978096  0.36083219  0.37099355 -0.08168165  0.69685482]]\n",
      "[[-1.61444932 -0.74635956 -0.99750604 -1.13003586 -1.75608235]\n",
      " [ 0.         -0.66049086 -0.19913456 -0.73876219 -0.5875674 ]\n",
      " [ 0.          0.         -0.38743984 -0.19972425 -0.17097734]\n",
      " [ 0.          0.          0.          0.12938944 -0.10528116]\n",
      " [ 0.          0.          0.          0.         -0.13255887]]\n"
     ]
    }
   ],
   "source": [
    "arr=np.random.rand(5,5)\n",
    "q,r=np.linalg.qr(arr)\n",
    "print(q)\n",
    "print(r)"
   ]
  },
  {
   "cell_type": "code",
   "execution_count": 18,
   "id": "95d6e220",
   "metadata": {},
   "outputs": [
    {
     "name": "stdout",
     "output_type": "stream",
     "text": [
      "[[-0.51274774  0.37118517 -0.2374455  -0.37167327  0.63623104]\n",
      " [-0.33249582 -0.83177975 -0.40611287 -0.17678458 -0.03753031]\n",
      " [-0.44384683 -0.21338265  0.49151429  0.64074802  0.32453585]\n",
      " [-0.51047454  0.07677643  0.50404633 -0.44672903 -0.52904782]\n",
      " [-0.41103773  0.34487279 -0.53201783  0.46955441 -0.45671262]]\n",
      "[2.60975401 1.05755937 0.49613109 0.39665101 0.03701317]\n",
      "[[-0.60876718 -0.33196611 -0.25138444 -0.60457377 -0.30082794]\n",
      " [ 0.32595513 -0.24649521 -0.54030894  0.3529236  -0.64537163]\n",
      " [ 0.20035549  0.79711761 -0.35555602 -0.42337021 -0.13710862]\n",
      " [-0.26082949  0.31156739  0.60450936  0.17042091 -0.66364063]\n",
      " [ 0.64419052 -0.31075375  0.39117829 -0.54922662 -0.18379432]]\n"
     ]
    }
   ],
   "source": [
    "arr=np.random.rand(5,5)\n",
    "u,s,v=np.linalg.svd(arr)\n",
    "print(u)\n",
    "print(s)\n",
    "print(v)"
   ]
  },
  {
   "cell_type": "code",
   "execution_count": 19,
   "id": "65d72775",
   "metadata": {},
   "outputs": [
    {
     "name": "stdout",
     "output_type": "stream",
     "text": [
      "[ 2.35449591+0.j         -0.29768989+0.37526267j -0.29768989-0.37526267j\n",
      " -0.07403993+0.j          0.57380473+0.j        ]\n"
     ]
    }
   ],
   "source": [
    "arr=np.random.rand(5,5)\n",
    "print(np.linalg.eigvals(arr))"
   ]
  },
  {
   "cell_type": "code",
   "execution_count": 20,
   "id": "d1ba64ba",
   "metadata": {},
   "outputs": [
    {
     "name": "stdout",
     "output_type": "stream",
     "text": [
      "[ 2.93651534+0.j         -0.21811852+0.44702634j -0.21811852-0.44702634j\n",
      "  0.1810666 +0.31927515j  0.1810666 -0.31927515j]\n",
      "[[ 0.50631568+0.j         -0.42924386-0.26695687j -0.42924386+0.26695687j\n",
      "  -0.04613364-0.01599047j -0.04613364+0.01599047j]\n",
      " [ 0.49833731+0.j         -0.29600941+0.21685027j -0.29600941-0.21685027j\n",
      "  -0.36298279-0.37885115j -0.36298279+0.37885115j]\n",
      " [ 0.47807656+0.j         -0.15889306+0.36351084j -0.15889306-0.36351084j\n",
      "   0.09932517+0.52943158j  0.09932517-0.52943158j]\n",
      " [ 0.31513719+0.j          0.5173347 +0.j          0.5173347 -0.j\n",
      "   0.59962875+0.j          0.59962875-0.j        ]\n",
      " [ 0.40918908+0.j          0.27089879-0.33381079j  0.27089879+0.33381079j\n",
      "  -0.25647445+0.08266934j -0.25647445-0.08266934j]]\n"
     ]
    }
   ],
   "source": [
    "arr=np.random.rand(5,5)\n",
    "w,v=np.linalg.eig(arr)\n",
    "print(w)\n",
    "print(v)"
   ]
  },
  {
   "cell_type": "code",
   "execution_count": 21,
   "id": "aa51bba6",
   "metadata": {},
   "outputs": [
    {
     "name": "stdout",
     "output_type": "stream",
     "text": [
      "2.862411509098628\n"
     ]
    }
   ],
   "source": [
    "print(np.trace(arr))"
   ]
  },
  {
   "cell_type": "code",
   "execution_count": 22,
   "id": "1c7ac2d5",
   "metadata": {},
   "outputs": [
    {
     "name": "stdout",
     "output_type": "stream",
     "text": [
      "0.09787777581713147\n"
     ]
    }
   ],
   "source": [
    "print(np.linalg.det(arr))"
   ]
  },
  {
   "cell_type": "code",
   "execution_count": 27,
   "id": "99152a7d",
   "metadata": {},
   "outputs": [
    {
     "name": "stdout",
     "output_type": "stream",
     "text": [
      "[[0.97331066 0.48365876 0.77144708 0.53949496 0.77580422]\n",
      " [0.70069521 0.46218382 0.84700139 0.14966419 0.84527331]\n",
      " [0.37413027 0.10957117 0.54419288 0.98384971 0.67075699]\n",
      " [0.23874847 0.92929445 0.62807172 0.1138353  0.41706461]\n",
      " [0.24850038 0.87195636 0.22595895 0.51919314 0.51783379]]\n"
     ]
    }
   ],
   "source": [
    "arr=np.random.rand(5,5)\n",
    "print(arr)"
   ]
  },
  {
   "cell_type": "code",
   "execution_count": 28,
   "id": "cbc387b8",
   "metadata": {},
   "outputs": [
    {
     "name": "stdout",
     "output_type": "stream",
     "text": [
      "[[ 2.27537638 -0.98904413 -1.02967358 -0.56753291 -0.00362152]\n",
      " [ 0.30203076 -0.61025432 -0.5052631   0.64589116  0.67791127]\n",
      " [ 0.04118092 -0.55085126  0.98394468  2.23747465 -2.23911175]\n",
      " [ 0.57431905 -1.38815031  0.93474816  0.40358483 -0.13035563]\n",
      " [-2.1942895   3.13436649 -0.02163686 -2.19621178  1.89909972]]\n"
     ]
    }
   ],
   "source": [
    "print(np.linalg.inv(arr))"
   ]
  },
  {
   "cell_type": "code",
   "execution_count": 29,
   "id": "2473dfda",
   "metadata": {},
   "outputs": [
    {
     "name": "stdout",
     "output_type": "stream",
     "text": [
      "[[ 2.27537638 -0.98904413 -1.02967358 -0.56753291 -0.00362152]\n",
      " [ 0.30203076 -0.61025432 -0.5052631   0.64589116  0.67791127]\n",
      " [ 0.04118092 -0.55085126  0.98394468  2.23747465 -2.23911175]\n",
      " [ 0.57431905 -1.38815031  0.93474816  0.40358483 -0.13035563]\n",
      " [-2.1942895   3.13436649 -0.02163686 -2.19621178  1.89909972]]\n"
     ]
    }
   ],
   "source": [
    "print(np.linalg.pinv(arr))"
   ]
  },
  {
   "cell_type": "code",
   "execution_count": 30,
   "id": "d8a2f6a2",
   "metadata": {},
   "outputs": [
    {
     "name": "stdout",
     "output_type": "stream",
     "text": [
      "[-5.07997187  3.53885383 -0.35434773  1.5648241   4.72018435]\n"
     ]
    }
   ],
   "source": [
    "y=[1,2,3,4,5]\n",
    "print(np.linalg.solve(arr,y))"
   ]
  },
  {
   "cell_type": "code",
   "execution_count": 31,
   "id": "5b3bb9b1",
   "metadata": {},
   "outputs": [
    {
     "name": "stdout",
     "output_type": "stream",
     "text": [
      "[-5.07997187  3.53885383 -0.35434773  1.5648241   4.72018435]\n",
      "[]\n",
      "5\n",
      "[2.84562927 0.91896052 0.73577862 0.30521202 0.17429686]\n"
     ]
    }
   ],
   "source": [
    "y=[1,2,3,4,5]\n",
    "solution,residuals,rank,singular=np.linalg.lstsq(arr,y,rcond=-1)\n",
    "print(solution)\n",
    "print(residuals)\n",
    "print(rank)\n",
    "print(singular)"
   ]
  },
  {
   "cell_type": "code",
   "execution_count": null,
   "id": "b6f0856c",
   "metadata": {},
   "outputs": [],
   "source": []
  }
 ],
 "metadata": {
  "kernelspec": {
   "display_name": "Python 3 (ipykernel)",
   "language": "python",
   "name": "python3"
  },
  "language_info": {
   "codemirror_mode": {
    "name": "ipython",
    "version": 3
   },
   "file_extension": ".py",
   "mimetype": "text/x-python",
   "name": "python",
   "nbconvert_exporter": "python",
   "pygments_lexer": "ipython3",
   "version": "3.10.4"
  }
 },
 "nbformat": 4,
 "nbformat_minor": 5
}
