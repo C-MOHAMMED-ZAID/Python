{
 "cells": [
  {
   "cell_type": "code",
   "execution_count": 1,
   "id": "d4ee0915",
   "metadata": {},
   "outputs": [],
   "source": [
    "import numpy as np\n"
   ]
  },
  {
   "cell_type": "code",
   "execution_count": 3,
   "id": "2a86dfc1",
   "metadata": {},
   "outputs": [
    {
     "data": {
      "text/plain": [
       "array([[1, 2, 3],\n",
       "       [4, 5, 6]], dtype=int64)"
      ]
     },
     "execution_count": 3,
     "metadata": {},
     "output_type": "execute_result"
    }
   ],
   "source": [
    "arr=np.array([[1,2,3],[4,5,6]],dtype=np.int64)\n",
    "arr"
   ]
  },
  {
   "cell_type": "code",
   "execution_count": 4,
   "id": "dc8414e8",
   "metadata": {},
   "outputs": [
    {
     "name": "stdout",
     "output_type": "stream",
     "text": [
      "class:  ndarray\n",
      "shape:  (2, 3)\n",
      "strides:  (24, 8)\n",
      "itemsize:  8\n",
      "aligned:  True\n",
      "contiguous:  True\n",
      "fortran:  False\n",
      "data pointer: 0x240ea4997a0\n",
      "byteorder:  little\n",
      "byteswap:  False\n",
      "type: int64\n",
      "None\n"
     ]
    }
   ],
   "source": [
    "print(np.info(arr))"
   ]
  },
  {
   "cell_type": "code",
   "execution_count": 5,
   "id": "b8935e0d",
   "metadata": {},
   "outputs": [
    {
     "name": "stdout",
     "output_type": "stream",
     "text": [
      "int64\n"
     ]
    }
   ],
   "source": [
    "print(arr.dtype)"
   ]
  },
  {
   "cell_type": "code",
   "execution_count": 6,
   "id": "275ad53f",
   "metadata": {},
   "outputs": [
    {
     "name": "stdout",
     "output_type": "stream",
     "text": [
      "(2, 3)\n"
     ]
    }
   ],
   "source": [
    "print(arr.shape)"
   ]
  },
  {
   "cell_type": "code",
   "execution_count": 7,
   "id": "fa23e411",
   "metadata": {},
   "outputs": [
    {
     "name": "stdout",
     "output_type": "stream",
     "text": [
      "2\n"
     ]
    }
   ],
   "source": [
    "print(len(arr))"
   ]
  },
  {
   "cell_type": "code",
   "execution_count": 8,
   "id": "7d008595",
   "metadata": {},
   "outputs": [
    {
     "name": "stdout",
     "output_type": "stream",
     "text": [
      "6\n"
     ]
    }
   ],
   "source": [
    "print(arr.size)"
   ]
  },
  {
   "cell_type": "code",
   "execution_count": 9,
   "id": "c2103f0f",
   "metadata": {},
   "outputs": [
    {
     "name": "stdout",
     "output_type": "stream",
     "text": [
      "8\n"
     ]
    }
   ],
   "source": [
    "print(arr.itemsize)"
   ]
  },
  {
   "cell_type": "code",
   "execution_count": 10,
   "id": "916c89a6",
   "metadata": {},
   "outputs": [
    {
     "name": "stdout",
     "output_type": "stream",
     "text": [
      "48\n"
     ]
    }
   ],
   "source": [
    "print(arr.nbytes)"
   ]
  },
  {
   "cell_type": "code",
   "execution_count": 11,
   "id": "6ced9924",
   "metadata": {},
   "outputs": [
    {
     "name": "stdout",
     "output_type": "stream",
     "text": [
      "0.15866639861116805\n"
     ]
    }
   ],
   "source": [
    "print(np.random.rand())"
   ]
  },
  {
   "cell_type": "code",
   "execution_count": 12,
   "id": "ed3cce50",
   "metadata": {},
   "outputs": [
    {
     "name": "stdout",
     "output_type": "stream",
     "text": [
      "[0.2068728  0.32794723 0.78259505]\n"
     ]
    }
   ],
   "source": [
    "print(np.random.rand(3))"
   ]
  },
  {
   "cell_type": "code",
   "execution_count": 13,
   "id": "6d154357",
   "metadata": {},
   "outputs": [
    {
     "name": "stdout",
     "output_type": "stream",
     "text": [
      "[[0.54586934 0.67201499 0.76849095]\n",
      " [0.65987336 0.56057003 0.04576653]\n",
      " [0.04871478 0.26975153 0.58058711]]\n"
     ]
    }
   ],
   "source": [
    "print(np.random.rand(3,3))"
   ]
  },
  {
   "cell_type": "code",
   "execution_count": 14,
   "id": "41b32948",
   "metadata": {},
   "outputs": [
    {
     "name": "stdout",
     "output_type": "stream",
     "text": [
      "[[-1.35925713  0.50357803  0.47147504]\n",
      " [ 0.34601224  0.96519447 -0.74001622]\n",
      " [ 1.46778687  0.86155356 -0.1473053 ]]\n"
     ]
    }
   ],
   "source": [
    "print(np.random.randn(3,3))"
   ]
  },
  {
   "cell_type": "code",
   "execution_count": 15,
   "id": "788d5db4",
   "metadata": {},
   "outputs": [
    {
     "name": "stdout",
     "output_type": "stream",
     "text": [
      "[0.70900275 0.84705182 0.82680001 0.69322765 0.43965707 0.16512868\n",
      " 0.45982348 0.74344631 0.69544814 0.61241399]\n",
      "[0.27340019 0.22443224 0.57602071 0.36350429 0.60965622 0.15893227\n",
      " 0.9249135  0.57302895 0.52390811 0.00449797]\n",
      "[0.0041373  0.92095083 0.09934172 0.04928239 0.13575973 0.25417391\n",
      " 0.39390428 0.72938671 0.59093611 0.36530836]\n",
      "[0.60750271 0.82518399 0.28513431 0.73984224 0.2187622  0.56932536\n",
      " 0.17253083 0.46945312 0.60520068 0.39043204]\n"
     ]
    }
   ],
   "source": [
    "print(np.random.random_sample(10))\n",
    "print(np.random.random(10))\n",
    "print(np.random.ranf(10))\n",
    "print(np.random.sample(10))"
   ]
  },
  {
   "cell_type": "code",
   "execution_count": 16,
   "id": "10602fb2",
   "metadata": {},
   "outputs": [
    {
     "name": "stdout",
     "output_type": "stream",
     "text": [
      "[1 1 2 1 1 1 1 0 0 0]\n"
     ]
    }
   ],
   "source": [
    "print(np.random.choice(range(3),10,replace=True,p=[0.1,0.8,0.1]))\n"
   ]
  },
  {
   "cell_type": "code",
   "execution_count": 18,
   "id": "2b153194",
   "metadata": {},
   "outputs": [
    {
     "name": "stdout",
     "output_type": "stream",
     "text": [
      "[2 4 4 0 3 0 2 4 1 1]\n"
     ]
    }
   ],
   "source": [
    "print(np.random.choice(5,10))"
   ]
  },
  {
   "cell_type": "code",
   "execution_count": 19,
   "id": "d8e35226",
   "metadata": {},
   "outputs": [
    {
     "name": "stdout",
     "output_type": "stream",
     "text": [
      "[2 3 2 1 2 1 2 1 3 2]\n"
     ]
    }
   ],
   "source": [
    "print(np.random.choice([1,2,3],10))"
   ]
  },
  {
   "cell_type": "code",
   "execution_count": 20,
   "id": "aef39c6f",
   "metadata": {},
   "outputs": [
    {
     "name": "stdout",
     "output_type": "stream",
     "text": [
      "[0 1 2 3 4 5 6 7 8 9]\n"
     ]
    }
   ],
   "source": [
    "arr=np.array(range(10))\n",
    "print(arr)"
   ]
  },
  {
   "cell_type": "code",
   "execution_count": 21,
   "id": "2c61bb92",
   "metadata": {},
   "outputs": [
    {
     "name": "stdout",
     "output_type": "stream",
     "text": [
      "[5 6 7 8 2 0 9 4 3 1]\n"
     ]
    }
   ],
   "source": [
    "np.random.shuffle(arr)\n",
    "print(arr)"
   ]
  },
  {
   "cell_type": "code",
   "execution_count": 22,
   "id": "8780bacc",
   "metadata": {},
   "outputs": [
    {
     "name": "stdout",
     "output_type": "stream",
     "text": [
      "The initial array: [0 1 2 3 4 5 6 7 8 9]\n",
      "A permutation of the array: [5 1 7 9 2 0 3 4 8 6]\n"
     ]
    }
   ],
   "source": [
    "arr=np.array(range(10))\n",
    "print('The initial array:',arr)\n",
    "print('A permutation of the array:',np.random.permutation(arr))"
   ]
  },
  {
   "cell_type": "code",
   "execution_count": null,
   "id": "d4e10c89",
   "metadata": {},
   "outputs": [],
   "source": []
  }
 ],
 "metadata": {
  "kernelspec": {
   "display_name": "Python 3 (ipykernel)",
   "language": "python",
   "name": "python3"
  },
  "language_info": {
   "codemirror_mode": {
    "name": "ipython",
    "version": 3
   },
   "file_extension": ".py",
   "mimetype": "text/x-python",
   "name": "python",
   "nbconvert_exporter": "python",
   "pygments_lexer": "ipython3",
   "version": "3.10.4"
  }
 },
 "nbformat": 4,
 "nbformat_minor": 5
}
