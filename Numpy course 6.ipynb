{
 "cells": [
  {
   "cell_type": "code",
   "execution_count": 1,
   "id": "f6c69b30",
   "metadata": {},
   "outputs": [],
   "source": [
    "import numpy as np"
   ]
  },
  {
   "cell_type": "code",
   "execution_count": 2,
   "id": "4e05ebd8",
   "metadata": {},
   "outputs": [
    {
     "data": {
      "text/plain": [
       "array([[30, 17, 15],\n",
       "       [19, 90, 16],\n",
       "       [69, 53, 21]])"
      ]
     },
     "execution_count": 2,
     "metadata": {},
     "output_type": "execute_result"
    }
   ],
   "source": [
    "arr=np.array([[30,17,15],[19,90,16],[69,53,21]])\n",
    "arr"
   ]
  },
  {
   "cell_type": "code",
   "execution_count": 3,
   "id": "3031afc3",
   "metadata": {},
   "outputs": [
    {
     "name": "stdout",
     "output_type": "stream",
     "text": [
      "[[19 17 15]\n",
      " [30 53 16]\n",
      " [69 90 21]]\n",
      "[[15 17 30]\n",
      " [16 19 90]\n",
      " [21 53 69]]\n"
     ]
    }
   ],
   "source": [
    "print(np.sort(arr,axis=0))\n",
    "print(np.sort(arr,axis=1))"
   ]
  },
  {
   "cell_type": "code",
   "execution_count": 4,
   "id": "a82f107e",
   "metadata": {},
   "outputs": [
    {
     "data": {
      "text/plain": [
       "array([(b'karan', 21), (b'Arpita', 25), (b'ashish', 17), (b'sam', 27),\n",
       "       (b'robin', 22)], dtype=[('name', 'S10'), ('age', '<i4')])"
      ]
     },
     "execution_count": 4,
     "metadata": {},
     "output_type": "execute_result"
    }
   ],
   "source": [
    "dt=np.dtype([('name','S10'),('age',int)])\n",
    "arr=np.array([(\"karan\",21),(\"Arpita\",25),(\"ashish\",17),(\"sam\",27),(\"robin\",22)],dtype=dt)\n",
    "arr"
   ]
  },
  {
   "cell_type": "code",
   "execution_count": 5,
   "id": "31eb1e79",
   "metadata": {},
   "outputs": [
    {
     "data": {
      "text/plain": [
       "array([(b'Arpita', 25), (b'ashish', 17), (b'karan', 21), (b'robin', 22),\n",
       "       (b'sam', 27)], dtype=[('name', 'S10'), ('age', '<i4')])"
      ]
     },
     "execution_count": 5,
     "metadata": {},
     "output_type": "execute_result"
    }
   ],
   "source": [
    "np.sort(arr,order='name')"
   ]
  },
  {
   "cell_type": "code",
   "execution_count": 6,
   "id": "45cbc48b",
   "metadata": {},
   "outputs": [
    {
     "data": {
      "text/plain": [
       "array([(b'ashish', 17), (b'karan', 21), (b'robin', 22), (b'Arpita', 25),\n",
       "       (b'sam', 27)], dtype=[('name', 'S10'), ('age', '<i4')])"
      ]
     },
     "execution_count": 6,
     "metadata": {},
     "output_type": "execute_result"
    }
   ],
   "source": [
    "np.sort(arr,order='age')"
   ]
  },
  {
   "cell_type": "code",
   "execution_count": 7,
   "id": "6cb8c839",
   "metadata": {},
   "outputs": [
    {
     "data": {
      "text/plain": [
       "array([[0.55819621, 0.73315878, 0.42576012, 0.59963178, 0.03497777],\n",
       "       [0.76706165, 0.07550043, 0.9530925 , 0.85630328, 0.38878434],\n",
       "       [0.69733079, 0.21435357, 0.8161581 , 0.7829357 , 0.26755666],\n",
       "       [0.596787  , 0.08038642, 0.85611976, 0.37864073, 0.20463603],\n",
       "       [0.91093024, 0.82338672, 0.18970325, 0.00893467, 0.44509906]])"
      ]
     },
     "execution_count": 7,
     "metadata": {},
     "output_type": "execute_result"
    }
   ],
   "source": [
    "arr=np.random.rand(5,5)\n",
    "arr"
   ]
  },
  {
   "cell_type": "code",
   "execution_count": 8,
   "id": "cd510010",
   "metadata": {},
   "outputs": [
    {
     "name": "stdout",
     "output_type": "stream",
     "text": [
      "[[0 1 4 4 0]\n",
      " [3 3 0 3 3]\n",
      " [2 2 2 0 2]\n",
      " [1 0 3 2 1]\n",
      " [4 4 1 1 4]]\n"
     ]
    }
   ],
   "source": [
    "print(np.argsort(arr,axis=0))"
   ]
  },
  {
   "cell_type": "code",
   "execution_count": 9,
   "id": "cb49dc51",
   "metadata": {},
   "outputs": [
    {
     "name": "stdout",
     "output_type": "stream",
     "text": [
      "[[4 2 0 3 1]\n",
      " [1 4 0 3 2]\n",
      " [1 4 0 3 2]\n",
      " [1 4 3 0 2]\n",
      " [3 2 4 1 0]]\n"
     ]
    }
   ],
   "source": [
    "print(np.argsort(arr,axis=1))"
   ]
  },
  {
   "cell_type": "code",
   "execution_count": 10,
   "id": "239bff82",
   "metadata": {},
   "outputs": [
    {
     "name": "stdout",
     "output_type": "stream",
     "text": [
      "[23  4  6 16 22 19 11 14 18  9  2 24  0 15  3 10  1  5 13 12 21 17  8 20\n",
      "  7]\n"
     ]
    }
   ],
   "source": [
    "print(np.argsort(arr,axis=None))"
   ]
  },
  {
   "cell_type": "code",
   "execution_count": 11,
   "id": "1c5a8707",
   "metadata": {},
   "outputs": [
    {
     "data": {
      "text/plain": [
       "array([[9, 7, 6],\n",
       "       [2, 2, 4],\n",
       "       [3, 9, 5]])"
      ]
     },
     "execution_count": 11,
     "metadata": {},
     "output_type": "execute_result"
    }
   ],
   "source": [
    "arr=np.random.randint(1,10,[3,3])\n",
    "arr"
   ]
  },
  {
   "cell_type": "code",
   "execution_count": 12,
   "id": "909ff552",
   "metadata": {},
   "outputs": [
    {
     "name": "stdout",
     "output_type": "stream",
     "text": [
      "[[9 2 3]\n",
      " [7 2 9]\n",
      " [6 4 5]]\n"
     ]
    }
   ],
   "source": [
    "print(arr.T)"
   ]
  },
  {
   "cell_type": "code",
   "execution_count": 13,
   "id": "7373ca3c",
   "metadata": {},
   "outputs": [
    {
     "name": "stdout",
     "output_type": "stream",
     "text": [
      "[[9 2 3]\n",
      " [7 2 9]\n",
      " [6 4 5]]\n"
     ]
    }
   ],
   "source": [
    "print(np.transpose(arr))"
   ]
  },
  {
   "cell_type": "code",
   "execution_count": 14,
   "id": "d1381688",
   "metadata": {},
   "outputs": [
    {
     "name": "stdout",
     "output_type": "stream",
     "text": [
      "[[9 2 3]\n",
      " [7 2 9]\n",
      " [6 4 5]]\n"
     ]
    }
   ],
   "source": [
    "print(arr.transpose())"
   ]
  },
  {
   "cell_type": "code",
   "execution_count": 15,
   "id": "0e49b577",
   "metadata": {},
   "outputs": [
    {
     "data": {
      "text/plain": [
       "array([[2, 4, 6]])"
      ]
     },
     "execution_count": 15,
     "metadata": {},
     "output_type": "execute_result"
    }
   ],
   "source": [
    "arr=np.array([[2,4,6]])\n",
    "arr"
   ]
  },
  {
   "cell_type": "code",
   "execution_count": 16,
   "id": "f51e1831",
   "metadata": {},
   "outputs": [
    {
     "data": {
      "text/plain": [
       "array([[2],\n",
       "       [4],\n",
       "       [6]])"
      ]
     },
     "execution_count": 16,
     "metadata": {},
     "output_type": "execute_result"
    }
   ],
   "source": [
    "np.swapaxes(arr,0,1)"
   ]
  },
  {
   "cell_type": "code",
   "execution_count": 19,
   "id": "68d64ecb",
   "metadata": {},
   "outputs": [
    {
     "data": {
      "text/plain": [
       "array([[[ 0,  1,  2,  3],\n",
       "        [ 4,  5,  6,  7]],\n",
       "\n",
       "       [[ 8,  9, 10, 11],\n",
       "        [12, 13, 14, 15]]])"
      ]
     },
     "execution_count": 19,
     "metadata": {},
     "output_type": "execute_result"
    }
   ],
   "source": [
    "arr=np.arange(16).reshape((2,2,4))\n",
    "arr"
   ]
  },
  {
   "cell_type": "code",
   "execution_count": 20,
   "id": "938da04d",
   "metadata": {},
   "outputs": [
    {
     "data": {
      "text/plain": [
       "array([[[ 0,  1,  2,  3],\n",
       "        [ 8,  9, 10, 11]],\n",
       "\n",
       "       [[ 4,  5,  6,  7],\n",
       "        [12, 13, 14, 15]]])"
      ]
     },
     "execution_count": 20,
     "metadata": {},
     "output_type": "execute_result"
    }
   ],
   "source": [
    "np.swapaxes(arr,0,1)"
   ]
  },
  {
   "cell_type": "code",
   "execution_count": 21,
   "id": "7794eee5",
   "metadata": {},
   "outputs": [
    {
     "data": {
      "text/plain": [
       "array([ 0,  1,  2,  3,  4,  5,  6,  7,  8,  9, 10, 11])"
      ]
     },
     "execution_count": 21,
     "metadata": {},
     "output_type": "execute_result"
    }
   ],
   "source": [
    "arr=np.arange(12)\n",
    "arr"
   ]
  },
  {
   "cell_type": "code",
   "execution_count": 22,
   "id": "91112ebe",
   "metadata": {},
   "outputs": [
    {
     "data": {
      "text/plain": [
       "array([[ 0,  1,  2,  3,  4,  5],\n",
       "       [ 6,  7,  8,  9, 10, 11]])"
      ]
     },
     "execution_count": 22,
     "metadata": {},
     "output_type": "execute_result"
    }
   ],
   "source": [
    "arr.reshape((2,6))"
   ]
  },
  {
   "cell_type": "code",
   "execution_count": 23,
   "id": "5178e518",
   "metadata": {},
   "outputs": [
    {
     "data": {
      "text/plain": [
       "array([[ 0,  1,  2,  3,  4,  5],\n",
       "       [ 6,  7,  8,  9, 10, 11]])"
      ]
     },
     "execution_count": 23,
     "metadata": {},
     "output_type": "execute_result"
    }
   ],
   "source": [
    "arr.resize((2,6))\n",
    "arr"
   ]
  },
  {
   "cell_type": "code",
   "execution_count": 24,
   "id": "6baca57b",
   "metadata": {},
   "outputs": [
    {
     "data": {
      "text/plain": [
       "array([ 0,  1,  2,  3,  4,  5,  6,  7,  8,  9, 10, 11])"
      ]
     },
     "execution_count": 24,
     "metadata": {},
     "output_type": "execute_result"
    }
   ],
   "source": [
    "arr.flatten()"
   ]
  },
  {
   "cell_type": "code",
   "execution_count": 25,
   "id": "1c8835f0",
   "metadata": {},
   "outputs": [
    {
     "data": {
      "text/plain": [
       "array([ 0,  1,  2,  3,  4,  5,  6,  7,  8,  9, 10, 11])"
      ]
     },
     "execution_count": 25,
     "metadata": {},
     "output_type": "execute_result"
    }
   ],
   "source": [
    "arr.ravel()"
   ]
  },
  {
   "cell_type": "code",
   "execution_count": 26,
   "id": "b28684a9",
   "metadata": {},
   "outputs": [],
   "source": [
    "arr=np.array([1,2,3])"
   ]
  },
  {
   "cell_type": "code",
   "execution_count": 29,
   "id": "e1104b8b",
   "metadata": {},
   "outputs": [
    {
     "name": "stdout",
     "output_type": "stream",
     "text": [
      "[1 2 3 4]\n"
     ]
    }
   ],
   "source": [
    "arr1=np.append(arr,4)\n",
    "print(arr1)"
   ]
  },
  {
   "cell_type": "code",
   "execution_count": 30,
   "id": "faa5b56a",
   "metadata": {},
   "outputs": [
    {
     "name": "stdout",
     "output_type": "stream",
     "text": [
      "[1 2 3 4 5 6]\n"
     ]
    }
   ],
   "source": [
    "arr2=np.append(arr,[4,5,6])\n",
    "print(arr2)"
   ]
  },
  {
   "cell_type": "code",
   "execution_count": 31,
   "id": "3b3408c9",
   "metadata": {},
   "outputs": [
    {
     "name": "stdout",
     "output_type": "stream",
     "text": [
      "[1 2 3 1 2 3]\n"
     ]
    }
   ],
   "source": [
    "arr3=np.insert(arr,0,[1,2,3])\n",
    "print(arr3)"
   ]
  },
  {
   "cell_type": "code",
   "execution_count": 32,
   "id": "b4a53687",
   "metadata": {},
   "outputs": [
    {
     "name": "stdout",
     "output_type": "stream",
     "text": [
      "[2 3]\n"
     ]
    }
   ],
   "source": [
    "arr4=np.delete(arr,0)\n",
    "print(arr4)"
   ]
  },
  {
   "cell_type": "code",
   "execution_count": 33,
   "id": "5b045b37",
   "metadata": {},
   "outputs": [
    {
     "name": "stdout",
     "output_type": "stream",
     "text": [
      "[2]\n"
     ]
    }
   ],
   "source": [
    "arr4=np.delete(arr,[0,2])\n",
    "print(arr4)"
   ]
  },
  {
   "cell_type": "code",
   "execution_count": 34,
   "id": "8f2806d6",
   "metadata": {},
   "outputs": [],
   "source": [
    "arr=np.array([1,2,3])"
   ]
  },
  {
   "cell_type": "code",
   "execution_count": 35,
   "id": "7a8167a4",
   "metadata": {},
   "outputs": [],
   "source": [
    "arr1=np.copy(arr)\n",
    "arr1=arr.copy()\n",
    "arr1=np.array(arr,copy=True)"
   ]
  },
  {
   "cell_type": "code",
   "execution_count": 36,
   "id": "f0f00820",
   "metadata": {},
   "outputs": [
    {
     "name": "stdout",
     "output_type": "stream",
     "text": [
      "[1 2 3]\n"
     ]
    }
   ],
   "source": [
    "print(arr1)"
   ]
  },
  {
   "cell_type": "code",
   "execution_count": 37,
   "id": "02081a5e",
   "metadata": {},
   "outputs": [],
   "source": [
    "arr=np.array([[1,2,3,4],[1,2,3,4]])\n",
    "arr1=np.array([[5,6,7,8],[5,6,7,8]])"
   ]
  },
  {
   "cell_type": "code",
   "execution_count": 38,
   "id": "3ef31829",
   "metadata": {},
   "outputs": [
    {
     "data": {
      "text/plain": [
       "array([[5, 6, 7, 8],\n",
       "       [5, 6, 7, 8]])"
      ]
     },
     "execution_count": 38,
     "metadata": {},
     "output_type": "execute_result"
    }
   ],
   "source": [
    "arr1"
   ]
  },
  {
   "cell_type": "code",
   "execution_count": 39,
   "id": "2d404cb5",
   "metadata": {},
   "outputs": [
    {
     "data": {
      "text/plain": [
       "array([[1, 2, 3, 4],\n",
       "       [1, 2, 3, 4]])"
      ]
     },
     "execution_count": 39,
     "metadata": {},
     "output_type": "execute_result"
    }
   ],
   "source": [
    "arr"
   ]
  },
  {
   "cell_type": "code",
   "execution_count": 42,
   "id": "6e2109bd",
   "metadata": {},
   "outputs": [
    {
     "name": "stdout",
     "output_type": "stream",
     "text": [
      "[[1 2 3 4]\n",
      " [1 2 3 4]\n",
      " [5 6 7 8]\n",
      " [5 6 7 8]]\n"
     ]
    }
   ],
   "source": [
    "cat=np.concatenate((arr,arr1),axis=0)\n",
    "print(cat)"
   ]
  },
  {
   "cell_type": "code",
   "execution_count": 43,
   "id": "1e731489",
   "metadata": {},
   "outputs": [
    {
     "name": "stdout",
     "output_type": "stream",
     "text": [
      "[[1 2 3 4 5 6 7 8]\n",
      " [1 2 3 4 5 6 7 8]]\n"
     ]
    }
   ],
   "source": [
    "cat=np.concatenate((arr,arr1),axis=1)\n",
    "print(cat)"
   ]
  },
  {
   "cell_type": "code",
   "execution_count": 44,
   "id": "890f9b1f",
   "metadata": {},
   "outputs": [
    {
     "name": "stdout",
     "output_type": "stream",
     "text": [
      "[[1 2 3 4]\n",
      " [1 2 3 4]\n",
      " [5 6 7 8]\n",
      " [5 6 7 8]]\n"
     ]
    }
   ],
   "source": [
    "cat=np.vstack((arr,arr1))\n",
    "print(cat)"
   ]
  },
  {
   "cell_type": "code",
   "execution_count": 45,
   "id": "0925090d",
   "metadata": {},
   "outputs": [
    {
     "name": "stdout",
     "output_type": "stream",
     "text": [
      "[[1 2 3 4]\n",
      " [1 2 3 4]\n",
      " [5 6 7 8]\n",
      " [5 6 7 8]]\n"
     ]
    }
   ],
   "source": [
    "cat=np.r_[arr,arr1]\n",
    "print(cat)"
   ]
  },
  {
   "cell_type": "code",
   "execution_count": 46,
   "id": "3e440861",
   "metadata": {},
   "outputs": [
    {
     "name": "stdout",
     "output_type": "stream",
     "text": [
      "[[1 2 3 4 5 6 7 8]\n",
      " [1 2 3 4 5 6 7 8]]\n"
     ]
    }
   ],
   "source": [
    "cat=np.hstack((arr,arr1))\n",
    "print(cat)"
   ]
  },
  {
   "cell_type": "code",
   "execution_count": 47,
   "id": "031f6404",
   "metadata": {},
   "outputs": [
    {
     "name": "stdout",
     "output_type": "stream",
     "text": [
      "[[1 2 3 4 5 6 7 8]\n",
      " [1 2 3 4 5 6 7 8]]\n"
     ]
    }
   ],
   "source": [
    "cat=np.c_[arr,arr1]\n",
    "print(cat)"
   ]
  },
  {
   "cell_type": "code",
   "execution_count": 50,
   "id": "086fe41c",
   "metadata": {},
   "outputs": [
    {
     "name": "stdout",
     "output_type": "stream",
     "text": [
      "[[0.25024789 0.38965115 0.68179003 0.88116174 0.60647949 0.50782094]\n",
      " [0.07491267 0.64096382 0.4757542  0.08495754 0.68963363 0.36275215]\n",
      " [0.21939145 0.33251652 0.40143336 0.75191783 0.98460089 0.01155985]\n",
      " [0.75707807 0.87745887 0.28591655 0.56029518 0.50496923 0.56727601]\n",
      " [0.8710138  0.11504418 0.3710532  0.96469314 0.43361694 0.62202442]\n",
      " [0.83320108 0.11546957 0.67281767 0.86172839 0.13736856 0.13354404]]\n"
     ]
    }
   ],
   "source": [
    "arr=np.random.rand(6,6)\n",
    "print(arr)"
   ]
  },
  {
   "cell_type": "code",
   "execution_count": 49,
   "id": "784ff184",
   "metadata": {},
   "outputs": [
    {
     "name": "stdout",
     "output_type": "stream",
     "text": [
      "[array([[0.51141967, 0.82777927, 0.85928233, 0.22830637, 0.96632959,\n",
      "        0.27486745],\n",
      "       [0.6474321 , 0.16045264, 0.91968328, 0.96686232, 0.09210077,\n",
      "        0.03610412],\n",
      "       [0.11277325, 0.82580781, 0.92951204, 0.05716159, 0.89348681,\n",
      "        0.47661447]]), array([[0.08809537, 0.14090511, 0.13019746, 0.85659319, 0.1644418 ,\n",
      "        0.66057511],\n",
      "       [0.2162968 , 0.41006285, 0.28682282, 0.041194  , 0.50742552,\n",
      "        0.62234704],\n",
      "       [0.40868422, 0.53582135, 0.43996162, 0.84149345, 0.67152241,\n",
      "        0.45292773]])]\n"
     ]
    }
   ],
   "source": [
    "arr1=np.vsplit(arr,2)\n",
    "print(arr1)"
   ]
  },
  {
   "cell_type": "code",
   "execution_count": 51,
   "id": "31f86a35",
   "metadata": {},
   "outputs": [
    {
     "name": "stdout",
     "output_type": "stream",
     "text": [
      "[array([[0.25024789, 0.38965115, 0.68179003],\n",
      "       [0.07491267, 0.64096382, 0.4757542 ],\n",
      "       [0.21939145, 0.33251652, 0.40143336],\n",
      "       [0.75707807, 0.87745887, 0.28591655],\n",
      "       [0.8710138 , 0.11504418, 0.3710532 ],\n",
      "       [0.83320108, 0.11546957, 0.67281767]]), array([[0.88116174, 0.60647949, 0.50782094],\n",
      "       [0.08495754, 0.68963363, 0.36275215],\n",
      "       [0.75191783, 0.98460089, 0.01155985],\n",
      "       [0.56029518, 0.50496923, 0.56727601],\n",
      "       [0.96469314, 0.43361694, 0.62202442],\n",
      "       [0.86172839, 0.13736856, 0.13354404]])]\n"
     ]
    }
   ],
   "source": [
    "arr2=np.hsplit(arr,2)\n",
    "print(arr2)"
   ]
  },
  {
   "cell_type": "code",
   "execution_count": null,
   "id": "6c80dd10",
   "metadata": {},
   "outputs": [],
   "source": []
  }
 ],
 "metadata": {
  "kernelspec": {
   "display_name": "Python 3 (ipykernel)",
   "language": "python",
   "name": "python3"
  },
  "language_info": {
   "codemirror_mode": {
    "name": "ipython",
    "version": 3
   },
   "file_extension": ".py",
   "mimetype": "text/x-python",
   "name": "python",
   "nbconvert_exporter": "python",
   "pygments_lexer": "ipython3",
   "version": "3.10.4"
  }
 },
 "nbformat": 4,
 "nbformat_minor": 5
}
