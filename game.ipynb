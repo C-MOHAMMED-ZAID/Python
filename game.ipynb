{
 "cells": [
  {
   "cell_type": "code",
   "execution_count": null,
   "id": "e03b7c72",
   "metadata": {},
   "outputs": [],
   "source": [
    "import random\n",
    "choices=[\"Rock\",\"Paper\",\"Scissors\"]\n",
    "computer=random.choice(choices)\n",
    "player=False\n",
    "cpu_score=0\n",
    "player_score=0\n",
    "while True:\n",
    "    player=input(\"Rock,Paper or Scissors?\").capitalize()\n",
    "    \n",
    "    if player==computer:\n",
    "        print(\"Tie!\")\n",
    "    elif player==\"Rock\":\n",
    "        if computer==\"paper\":\n",
    "            print(\"you Lose!\",computer,\"covers\",player)\n",
    "            cpu_score+=1\n",
    "        else:\n",
    "            print(\"you win!\",player,\"smashes\",computer)\n",
    "            player_score+=1\n",
    "    elif player==\"Paper\":\n",
    "        if computer==\"Scissors\":\n",
    "            print(\"you lose!\",computer,\"cut\",player)\n",
    "            cpu_score+=1\n",
    "        else:\n",
    "            print(\"you win!\",player,\"covers\",computer)\n",
    "            player_score+=1\n",
    "    elif player==\"Scissors\":\n",
    "        if computer==\"Rock\":\n",
    "            print(\"you Lose!\",computer,\"Smashes\",player)\n",
    "            cpu_score+=1\n",
    "        else:\n",
    "            print(\"you win!\",player,\"cut\",computer)\n",
    "            player_score+=1\n",
    "    elif player==\"End\":\n",
    "        print(\"Final Scores:\")\n",
    "        print(f\"CPU:{cpu_score}\")\n",
    "        print(f\"player:{player_score}\")\n",
    "        break\n",
    "            \n",
    "            \n",
    "            \n",
    "            \n",
    "            \n",
    "            \n",
    "            \n",
    "            \n",
    "            \n",
    "            \n",
    "            "
   ]
  },
  {
   "cell_type": "code",
   "execution_count": null,
   "id": "0309158f",
   "metadata": {},
   "outputs": [],
   "source": []
  }
 ],
 "metadata": {
  "kernelspec": {
   "display_name": "Python 3 (ipykernel)",
   "language": "python",
   "name": "python3"
  },
  "language_info": {
   "codemirror_mode": {
    "name": "ipython",
    "version": 3
   },
   "file_extension": ".py",
   "mimetype": "text/x-python",
   "name": "python",
   "nbconvert_exporter": "python",
   "pygments_lexer": "ipython3",
   "version": "3.10.4"
  }
 },
 "nbformat": 4,
 "nbformat_minor": 5
}
