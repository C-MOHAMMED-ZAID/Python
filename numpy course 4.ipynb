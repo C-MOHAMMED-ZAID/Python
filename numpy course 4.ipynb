{
 "cells": [
  {
   "cell_type": "code",
   "execution_count": 1,
   "id": "d4f32e8b",
   "metadata": {},
   "outputs": [],
   "source": [
    "import numpy as np"
   ]
  },
  {
   "cell_type": "code",
   "execution_count": 2,
   "id": "922d1933",
   "metadata": {},
   "outputs": [
    {
     "data": {
      "text/plain": [
       "array([[71, 80, 55],\n",
       "       [90, 60, 58],\n",
       "       [78, 57, 33]])"
      ]
     },
     "execution_count": 2,
     "metadata": {},
     "output_type": "execute_result"
    }
   ],
   "source": [
    "arr=np.random.randint(10,99,[3,3])\n",
    "arr"
   ]
  },
  {
   "cell_type": "code",
   "execution_count": 3,
   "id": "59d1e9e3",
   "metadata": {},
   "outputs": [
    {
     "name": "stdout",
     "output_type": "stream",
     "text": [
      "[[ 81  90  65]\n",
      " [100  70  68]\n",
      " [ 88  67  43]]\n",
      "[[61 70 45]\n",
      " [80 50 48]\n",
      " [68 47 23]]\n",
      "[[710 800 550]\n",
      " [900 600 580]\n",
      " [780 570 330]]\n",
      "[[7.1 8.  5.5]\n",
      " [9.  6.  5.8]\n",
      " [7.8 5.7 3.3]]\n"
     ]
    }
   ],
   "source": [
    "print(arr+10)\n",
    "print(arr-10)\n",
    "print(arr*10)\n",
    "print(arr/10)\n"
   ]
  },
  {
   "cell_type": "code",
   "execution_count": 4,
   "id": "fa9869c0",
   "metadata": {},
   "outputs": [
    {
     "name": "stdout",
     "output_type": "stream",
     "text": [
      "[ 9 11 13]\n",
      "[1 2 3]\n",
      "[1 4 9]\n"
     ]
    }
   ],
   "source": [
    "arr1=np.array([1,2,3])\n",
    "np.add(arr1,[8,9,10],out=arr1)\n",
    "print(arr1)\n",
    "np.subtract(arr1,[8,9,10],out=arr1)\n",
    "print(arr1)\n",
    "np.multiply(arr1,[1,2,3],out=arr1)\n",
    "print(arr1)"
   ]
  },
  {
   "cell_type": "code",
   "execution_count": 10,
   "id": "23f546fe",
   "metadata": {},
   "outputs": [
    {
     "name": "stdout",
     "output_type": "stream",
     "text": [
      "[[1 2 3]\n",
      " [4 5 6]\n",
      " [7 8 9]]\n"
     ]
    }
   ],
   "source": [
    "arr=np.array([[1,2,3],[4,5,6],[7,8,9]])\n",
    "print(arr)"
   ]
  },
  {
   "cell_type": "code",
   "execution_count": 12,
   "id": "2920ea72",
   "metadata": {},
   "outputs": [
    {
     "name": "stdout",
     "output_type": "stream",
     "text": [
      "[[2.71828183e+00 7.38905610e+00 2.00855369e+01]\n",
      " [5.45981500e+01 1.48413159e+02 4.03428793e+02]\n",
      " [1.09663316e+03 2.98095799e+03 8.10308393e+03]]\n"
     ]
    }
   ],
   "source": [
    "print(np.exp(arr))"
   ]
  },
  {
   "cell_type": "code",
   "execution_count": 13,
   "id": "5e1368ca",
   "metadata": {},
   "outputs": [
    {
     "name": "stdout",
     "output_type": "stream",
     "text": [
      "[[0.         0.69314718 1.09861229]\n",
      " [1.38629436 1.60943791 1.79175947]\n",
      " [1.94591015 2.07944154 2.19722458]]\n"
     ]
    }
   ],
   "source": [
    "print(np.log(arr))"
   ]
  },
  {
   "cell_type": "code",
   "execution_count": 14,
   "id": "c6f7de3a",
   "metadata": {},
   "outputs": [
    {
     "name": "stdout",
     "output_type": "stream",
     "text": [
      "[[0.         1.         1.5849625 ]\n",
      " [2.         2.32192809 2.5849625 ]\n",
      " [2.80735492 3.         3.169925  ]]\n"
     ]
    }
   ],
   "source": [
    "print(np.log2(arr))"
   ]
  },
  {
   "cell_type": "code",
   "execution_count": 15,
   "id": "fef52c71",
   "metadata": {},
   "outputs": [
    {
     "name": "stdout",
     "output_type": "stream",
     "text": [
      "[[0.         0.30103    0.47712125]\n",
      " [0.60205999 0.69897    0.77815125]\n",
      " [0.84509804 0.90308999 0.95424251]]\n"
     ]
    }
   ],
   "source": [
    "print(np.log10(arr))"
   ]
  },
  {
   "cell_type": "code",
   "execution_count": 16,
   "id": "33426a14",
   "metadata": {},
   "outputs": [
    {
     "name": "stdout",
     "output_type": "stream",
     "text": [
      "[[1.         1.41421356 1.73205081]\n",
      " [2.         2.23606798 2.44948974]\n",
      " [2.64575131 2.82842712 3.        ]]\n"
     ]
    }
   ],
   "source": [
    "print(np.sqrt(arr))"
   ]
  },
  {
   "cell_type": "code",
   "execution_count": 17,
   "id": "2ef9ca86",
   "metadata": {},
   "outputs": [
    {
     "name": "stdout",
     "output_type": "stream",
     "text": [
      "[[ 0.84147098  0.90929743  0.14112001]\n",
      " [-0.7568025  -0.95892427 -0.2794155 ]\n",
      " [ 0.6569866   0.98935825  0.41211849]]\n"
     ]
    }
   ],
   "source": [
    "print(np.sin(arr))"
   ]
  },
  {
   "cell_type": "code",
   "execution_count": 18,
   "id": "61988b93",
   "metadata": {},
   "outputs": [
    {
     "name": "stdout",
     "output_type": "stream",
     "text": [
      "[[ 0.54030231 -0.41614684 -0.9899925 ]\n",
      " [-0.65364362  0.28366219  0.96017029]\n",
      " [ 0.75390225 -0.14550003 -0.91113026]]\n"
     ]
    }
   ],
   "source": [
    "print(np.cos(arr))"
   ]
  },
  {
   "cell_type": "code",
   "execution_count": 19,
   "id": "4afa1eb3",
   "metadata": {},
   "outputs": [
    {
     "data": {
      "text/plain": [
       "array([[1, 2, 3],\n",
       "       [4, 5, 6],\n",
       "       [7, 8, 9]])"
      ]
     },
     "execution_count": 19,
     "metadata": {},
     "output_type": "execute_result"
    }
   ],
   "source": [
    "arr"
   ]
  },
  {
   "cell_type": "code",
   "execution_count": 20,
   "id": "cee1d585",
   "metadata": {},
   "outputs": [
    {
     "name": "stdout",
     "output_type": "stream",
     "text": [
      "[12 15 18]\n"
     ]
    }
   ],
   "source": [
    "print(np.sum(arr,axis=0))"
   ]
  },
  {
   "cell_type": "code",
   "execution_count": 21,
   "id": "fa5b650f",
   "metadata": {},
   "outputs": [
    {
     "name": "stdout",
     "output_type": "stream",
     "text": [
      "[ 6 15 24]\n"
     ]
    }
   ],
   "source": [
    "print(np.sum(arr,axis=1))"
   ]
  },
  {
   "cell_type": "code",
   "execution_count": 22,
   "id": "ec3188ce",
   "metadata": {},
   "outputs": [
    {
     "name": "stdout",
     "output_type": "stream",
     "text": [
      "[1 2 3]\n"
     ]
    }
   ],
   "source": [
    "print(np.min(arr,axis=0))"
   ]
  },
  {
   "cell_type": "code",
   "execution_count": 23,
   "id": "eef0467b",
   "metadata": {},
   "outputs": [
    {
     "name": "stdout",
     "output_type": "stream",
     "text": [
      "[1 4 7]\n"
     ]
    }
   ],
   "source": [
    "print(np.min(arr,axis=1))"
   ]
  },
  {
   "cell_type": "code",
   "execution_count": 24,
   "id": "618c7b9a",
   "metadata": {},
   "outputs": [
    {
     "name": "stdout",
     "output_type": "stream",
     "text": [
      "[7 8 9]\n"
     ]
    }
   ],
   "source": [
    "print(np.max(arr,axis=0))"
   ]
  },
  {
   "cell_type": "code",
   "execution_count": 25,
   "id": "5a1d247f",
   "metadata": {},
   "outputs": [
    {
     "name": "stdout",
     "output_type": "stream",
     "text": [
      "[3 6 9]\n"
     ]
    }
   ],
   "source": [
    "print(np.max(arr,axis=1))"
   ]
  },
  {
   "cell_type": "code",
   "execution_count": 26,
   "id": "9f778451",
   "metadata": {},
   "outputs": [
    {
     "data": {
      "text/plain": [
       "array([[1, 2, 3],\n",
       "       [4, 5, 6],\n",
       "       [7, 8, 9]])"
      ]
     },
     "execution_count": 26,
     "metadata": {},
     "output_type": "execute_result"
    }
   ],
   "source": [
    "arr"
   ]
  },
  {
   "cell_type": "code",
   "execution_count": 27,
   "id": "8d0ac90a",
   "metadata": {},
   "outputs": [
    {
     "name": "stdout",
     "output_type": "stream",
     "text": [
      "9\n",
      "1\n"
     ]
    }
   ],
   "source": [
    "print(np.max(arr))\n",
    "print(np.min(arr))"
   ]
  },
  {
   "cell_type": "code",
   "execution_count": 28,
   "id": "106cfbdb",
   "metadata": {},
   "outputs": [
    {
     "name": "stdout",
     "output_type": "stream",
     "text": [
      "[0 0 0]\n",
      "[2 2 2]\n"
     ]
    }
   ],
   "source": [
    "print(np.argmin(arr,axis=0))\n",
    "print(np.argmax(arr,axis=0))"
   ]
  },
  {
   "cell_type": "code",
   "execution_count": 29,
   "id": "20be0ac6",
   "metadata": {},
   "outputs": [
    {
     "name": "stdout",
     "output_type": "stream",
     "text": [
      "[0 0 0]\n",
      "[2 2 2]\n"
     ]
    }
   ],
   "source": [
    "print(np.argmin(arr,axis=1))\n",
    "print(np.argmax(arr,axis=1))"
   ]
  },
  {
   "cell_type": "code",
   "execution_count": 30,
   "id": "cfd633cc",
   "metadata": {},
   "outputs": [
    {
     "name": "stdout",
     "output_type": "stream",
     "text": [
      "0\n",
      "8\n"
     ]
    }
   ],
   "source": [
    "print(np.argmin(arr))\n",
    "print(np.argmax(arr))"
   ]
  },
  {
   "cell_type": "code",
   "execution_count": 31,
   "id": "38b9bdb7",
   "metadata": {},
   "outputs": [
    {
     "name": "stdout",
     "output_type": "stream",
     "text": [
      "[1 4 5 8 9]\n",
      "[0 3 3 7 7]\n"
     ]
    }
   ],
   "source": [
    "arr1=np.array([1,3,5,7,9])\n",
    "arr2=np.array([0,4,3,8,7])\n",
    "print(np.maximum(arr1,arr2))\n",
    "print(np.minimum(arr1,arr2))"
   ]
  },
  {
   "cell_type": "code",
   "execution_count": 35,
   "id": "0ff5715e",
   "metadata": {},
   "outputs": [
    {
     "ename": "SyntaxError",
     "evalue": "invalid syntax. Maybe you meant '==' or ':=' instead of '='? (3744873191.py, line 1)",
     "output_type": "error",
     "traceback": [
      "\u001b[1;36m  Cell \u001b[1;32mIn[35], line 1\u001b[1;36m\u001b[0m\n\u001b[1;33m    arr1=np.random.rand(10) * 10,intg=np.modf(arr1)\u001b[0m\n\u001b[1;37m    ^\u001b[0m\n\u001b[1;31mSyntaxError\u001b[0m\u001b[1;31m:\u001b[0m invalid syntax. Maybe you meant '==' or ':=' instead of '='?\n"
     ]
    }
   ],
   "source": [
    "arr1=np.random.rand(10) * 10,intg=np.modf(arr1)\n",
    "print('fractional:',re)\n",
    "print('integral:',intg)"
   ]
  },
  {
   "cell_type": "code",
   "execution_count": 36,
   "id": "fa9f0f37",
   "metadata": {},
   "outputs": [
    {
     "data": {
      "text/plain": [
       "array([[1, 2, 3],\n",
       "       [4, 5, 6],\n",
       "       [7, 8, 9]])"
      ]
     },
     "execution_count": 36,
     "metadata": {},
     "output_type": "execute_result"
    }
   ],
   "source": [
    "arr"
   ]
  },
  {
   "cell_type": "code",
   "execution_count": 37,
   "id": "e1424f73",
   "metadata": {},
   "outputs": [
    {
     "name": "stdout",
     "output_type": "stream",
     "text": [
      "5.0\n"
     ]
    }
   ],
   "source": [
    "print(np.mean(arr))"
   ]
  },
  {
   "cell_type": "code",
   "execution_count": 38,
   "id": "4a1b58d2",
   "metadata": {},
   "outputs": [
    {
     "name": "stdout",
     "output_type": "stream",
     "text": [
      "[4. 5. 6.]\n",
      "[2. 5. 8.]\n"
     ]
    }
   ],
   "source": [
    "print(np.mean(arr,axis=0))\n",
    "print(np.mean(arr,axis=1))"
   ]
  },
  {
   "cell_type": "code",
   "execution_count": 39,
   "id": "c43e1f04",
   "metadata": {},
   "outputs": [
    {
     "name": "stdout",
     "output_type": "stream",
     "text": [
      "5.0\n"
     ]
    }
   ],
   "source": [
    "print(np.median(arr))"
   ]
  },
  {
   "cell_type": "code",
   "execution_count": 40,
   "id": "59367a6c",
   "metadata": {},
   "outputs": [
    {
     "name": "stdout",
     "output_type": "stream",
     "text": [
      "[4. 5. 6.]\n",
      "[2. 5. 8.]\n"
     ]
    }
   ],
   "source": [
    "print(np.median(arr,axis=0))\n",
    "print(np.median(arr,axis=1))"
   ]
  },
  {
   "cell_type": "code",
   "execution_count": 41,
   "id": "4e191883",
   "metadata": {},
   "outputs": [
    {
     "name": "stdout",
     "output_type": "stream",
     "text": [
      "[0.05626912 0.65281086 0.96584699]\n"
     ]
    }
   ],
   "source": [
    "arr1=np.random.rand(100)\n",
    "print(np.percentile(arr1,[5,65,95]))"
   ]
  },
  {
   "cell_type": "code",
   "execution_count": 42,
   "id": "c10cb918",
   "metadata": {},
   "outputs": [
    {
     "data": {
      "text/plain": [
       "array([[1, 2, 3],\n",
       "       [4, 5, 6],\n",
       "       [7, 8, 9]])"
      ]
     },
     "execution_count": 42,
     "metadata": {},
     "output_type": "execute_result"
    }
   ],
   "source": [
    "arr"
   ]
  },
  {
   "cell_type": "code",
   "execution_count": 43,
   "id": "91d867fb",
   "metadata": {},
   "outputs": [
    {
     "name": "stdout",
     "output_type": "stream",
     "text": [
      "2.581988897471611\n"
     ]
    }
   ],
   "source": [
    "print(np.std(arr))"
   ]
  },
  {
   "cell_type": "code",
   "execution_count": 44,
   "id": "1b09a4fa",
   "metadata": {},
   "outputs": [
    {
     "name": "stdout",
     "output_type": "stream",
     "text": [
      "[2.44948974 2.44948974 2.44948974]\n",
      "[0.81649658 0.81649658 0.81649658]\n"
     ]
    }
   ],
   "source": [
    "print(np.std(arr,axis=0))\n",
    "print(np.std(arr,axis=1))"
   ]
  },
  {
   "cell_type": "code",
   "execution_count": 45,
   "id": "67f5734b",
   "metadata": {},
   "outputs": [
    {
     "name": "stdout",
     "output_type": "stream",
     "text": [
      "6.666666666666667\n"
     ]
    }
   ],
   "source": [
    "print(np.var(arr))"
   ]
  },
  {
   "cell_type": "code",
   "execution_count": 46,
   "id": "fc181167",
   "metadata": {},
   "outputs": [
    {
     "data": {
      "text/plain": [
       "array([[0.43435406, 0.42818764, 0.69915471, 0.74202637, 0.43936429,\n",
       "        0.91657328, 0.26558926, 0.16760671],\n",
       "       [0.8406483 , 0.69102948, 0.35858847, 0.60400011, 0.9958182 ,\n",
       "        0.57557158, 0.59298787, 0.44115109],\n",
       "       [0.27479011, 0.45228747, 0.03556792, 0.3287468 , 0.14301337,\n",
       "        0.49422041, 0.24922034, 0.94611234],\n",
       "       [0.68437341, 0.30874653, 0.96177151, 0.29452097, 0.14801003,\n",
       "        0.93728901, 0.55161978, 0.34586894],\n",
       "       [0.22569187, 0.58964951, 0.87433766, 0.69255687, 0.76039726,\n",
       "        0.95011393, 0.64149138, 0.0532754 ]])"
      ]
     },
     "execution_count": 46,
     "metadata": {},
     "output_type": "execute_result"
    }
   ],
   "source": [
    "arr=np.random.rand(5,8)\n",
    "arr"
   ]
  },
  {
   "cell_type": "code",
   "execution_count": 47,
   "id": "583eba5a",
   "metadata": {},
   "outputs": [
    {
     "name": "stdout",
     "output_type": "stream",
     "text": [
      "[[ 0.06418167 -0.00752248 -0.02478604  0.04054378  0.05866011]\n",
      " [-0.00752248  0.04225854 -0.01672114 -0.03141796 -0.00213112]\n",
      " [-0.02478604 -0.01672114  0.07752389 -0.01985922 -0.05339122]\n",
      " [ 0.04054378 -0.03141796 -0.01985922  0.09440371  0.0320063 ]\n",
      " [ 0.05866011 -0.00213112 -0.05339122  0.0320063   0.09613693]]\n"
     ]
    }
   ],
   "source": [
    "print(np.cov(arr))"
   ]
  },
  {
   "cell_type": "code",
   "execution_count": 48,
   "id": "5634e8b0",
   "metadata": {},
   "outputs": [
    {
     "name": "stdout",
     "output_type": "stream",
     "text": [
      "[[1.         0.12994075]\n",
      " [0.12994075 1.        ]]\n"
     ]
    }
   ],
   "source": [
    "print(np.corrcoef(arr[:,0],arr[:,1]))"
   ]
  },
  {
   "cell_type": "code",
   "execution_count": 49,
   "id": "755e9d0e",
   "metadata": {},
   "outputs": [
    {
     "name": "stdout",
     "output_type": "stream",
     "text": [
      "[[0.43435406 0.42818764 0.69915471 0.74202637 0.43936429 0.91657328\n",
      "  0.26558926 0.16760671]\n",
      " [1.27500236 1.11921712 1.05774318 1.34602648 1.4351825  1.49214487\n",
      "  0.85857713 0.6087578 ]\n",
      " [1.54979247 1.57150459 1.09331111 1.67477328 1.57819587 1.98636527\n",
      "  1.10779748 1.55487014]\n",
      " [2.23416588 1.88025112 2.05508261 1.96929425 1.7262059  2.92365428\n",
      "  1.65941726 1.90073908]\n",
      " [2.45985775 2.46990064 2.92942027 2.66185112 2.48660316 3.87376821\n",
      "  2.30090864 1.95401448]]\n",
      "[[0.43435406 0.86254169 1.56169641 2.30372278 2.74308707 3.65966036\n",
      "  3.92524962 4.09285633]\n",
      " [0.8406483  1.53167778 1.89026626 2.49426636 3.49008456 4.06565615\n",
      "  4.65864401 5.09979511]\n",
      " [0.27479011 0.72707759 0.76264551 1.09139231 1.23440568 1.72862609\n",
      "  1.97784644 2.92395878]\n",
      " [0.68437341 0.99311993 1.95489144 2.24941241 2.39742244 3.33471144\n",
      "  3.88633123 4.23220017]\n",
      " [0.22569187 0.81534138 1.68967904 2.38223592 3.14263317 4.09274711\n",
      "  4.73423848 4.78751388]]\n"
     ]
    }
   ],
   "source": [
    "print(np.cumsum(arr,axis=0))\n",
    "print(np.cumsum(arr,axis=1))"
   ]
  },
  {
   "cell_type": "code",
   "execution_count": 50,
   "id": "b328a461",
   "metadata": {},
   "outputs": [
    {
     "name": "stdout",
     "output_type": "stream",
     "text": [
      "[[0.43435406 0.42818764 0.69915471 0.74202637 0.43936429 0.91657328\n",
      "  0.26558926 0.16760671]\n",
      " [0.365139   0.29589028 0.25070882 0.44818401 0.43752696 0.52755354\n",
      "  0.15749121 0.07393988]\n",
      " [0.10033659 0.13382747 0.00891719 0.14733906 0.06257221 0.26072772\n",
      "  0.03925001 0.06995544]\n",
      " [0.06866769 0.04131877 0.0085763  0.04339444 0.00926131 0.24437723\n",
      "  0.02165108 0.02419541]\n",
      " [0.01549774 0.02436359 0.00749858 0.03005312 0.00704228 0.23218621\n",
      "  0.01388898 0.00128902]]\n",
      "[[4.34354056e-01 1.85985038e-01 1.30032315e-01 9.64874074e-02\n",
      "  4.23931217e-02 3.88564027e-02 1.03198434e-02 1.72967499e-03]\n",
      " [8.40648301e-01 5.80912760e-01 2.08308619e-01 1.25818428e-01\n",
      "  1.25292281e-01 7.21146765e-02 4.27631283e-02 1.88650008e-02]\n",
      " [2.74790115e-01 1.24284127e-01 4.42052797e-03 1.45323443e-03\n",
      "  2.07831958e-04 1.02714795e-04 2.55986166e-05 2.42191671e-05]\n",
      " [6.84373408e-01 2.11297913e-01 2.03220312e-01 5.98526426e-02\n",
      "  8.85879142e-03 8.30324781e-03 4.58023576e-03 1.58416128e-03]\n",
      " [2.25691868e-01 1.33079100e-01 1.16356070e-01 8.05831957e-02\n",
      "  6.12752408e-02 5.82184601e-02 3.73466401e-02 1.98965701e-03]]\n"
     ]
    }
   ],
   "source": [
    "print(np.cumprod(arr,axis=0))\n",
    "print(np.cumprod(arr,axis=1))"
   ]
  },
  {
   "cell_type": "code",
   "execution_count": 51,
   "id": "e1ff5556",
   "metadata": {},
   "outputs": [],
   "source": [
    "arr1=np.array([1,2,3,4,5])\n",
    "arr2=np.array([5,4,3,2,1])"
   ]
  },
  {
   "cell_type": "code",
   "execution_count": 52,
   "id": "82bc3a38",
   "metadata": {},
   "outputs": [
    {
     "name": "stdout",
     "output_type": "stream",
     "text": [
      "[False False  True False False]\n",
      "[ True  True False False False]\n"
     ]
    }
   ],
   "source": [
    "print(arr1==arr2)\n",
    "print(arr1<3)"
   ]
  },
  {
   "cell_type": "code",
   "execution_count": null,
   "id": "9b35e0d2",
   "metadata": {},
   "outputs": [],
   "source": []
  }
 ],
 "metadata": {
  "kernelspec": {
   "display_name": "Python 3 (ipykernel)",
   "language": "python",
   "name": "python3"
  },
  "language_info": {
   "codemirror_mode": {
    "name": "ipython",
    "version": 3
   },
   "file_extension": ".py",
   "mimetype": "text/x-python",
   "name": "python",
   "nbconvert_exporter": "python",
   "pygments_lexer": "ipython3",
   "version": "3.10.4"
  }
 },
 "nbformat": 4,
 "nbformat_minor": 5
}
