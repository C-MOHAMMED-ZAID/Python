{
 "cells": [
  {
   "cell_type": "code",
   "execution_count": 2,
   "id": "dd888647",
   "metadata": {},
   "outputs": [],
   "source": [
    "import numpy as np"
   ]
  },
  {
   "cell_type": "code",
   "execution_count": 7,
   "id": "2adeeeb3",
   "metadata": {},
   "outputs": [],
   "source": [
    "arr=np.array([1,2,3,4,5])"
   ]
  },
  {
   "cell_type": "code",
   "execution_count": 5,
   "id": "8732bc40",
   "metadata": {},
   "outputs": [
    {
     "name": "stdout",
     "output_type": "stream",
     "text": [
      "[1 2 3 4 5]\n"
     ]
    }
   ],
   "source": [
    "print(arr)"
   ]
  },
  {
   "cell_type": "code",
   "execution_count": 8,
   "id": "37fa0f7a",
   "metadata": {},
   "outputs": [
    {
     "name": "stdout",
     "output_type": "stream",
     "text": [
      "<class 'numpy.ndarray'>\n"
     ]
    }
   ],
   "source": [
    "print(type(arr))"
   ]
  },
  {
   "cell_type": "code",
   "execution_count": 11,
   "id": "17b48dfe",
   "metadata": {},
   "outputs": [
    {
     "name": "stdout",
     "output_type": "stream",
     "text": [
      "[1 2 3 4 5]\n"
     ]
    }
   ],
   "source": [
    "arr=np.array((1,2,3,4,5))\n",
    "print(arr)"
   ]
  },
  {
   "cell_type": "code",
   "execution_count": 12,
   "id": "615168ac",
   "metadata": {},
   "outputs": [
    {
     "name": "stdout",
     "output_type": "stream",
     "text": [
      "[0 1 2 3 4 5 6 7 8 9]\n"
     ]
    }
   ],
   "source": [
    "arr=np.array(range(10))\n",
    "print(arr)"
   ]
  },
  {
   "cell_type": "code",
   "execution_count": 19,
   "id": "1236390c",
   "metadata": {},
   "outputs": [
    {
     "name": "stdout",
     "output_type": "stream",
     "text": [
      "[[1 2 3]\n",
      " [4 5 6]] int32\n"
     ]
    }
   ],
   "source": [
    "arr=np.array([[1,2,3],[4,5,6]],dtype='int')\n",
    "print(arr,arr.dtype)"
   ]
  },
  {
   "cell_type": "code",
   "execution_count": 22,
   "id": "22a6e6d4",
   "metadata": {},
   "outputs": [
    {
     "name": "stdout",
     "output_type": "stream",
     "text": [
      "[[[1 2 3]\n",
      "  [4 5 6]]\n",
      "\n",
      " [[1 2 3]\n",
      "  [4 5 6]]] int32\n"
     ]
    }
   ],
   "source": [
    "arr=np.array([[[1,2,3],[4,5,6]],[[1,2,3],[4,5,6]]])\n",
    "print(arr,arr.dtype)"
   ]
  },
  {
   "cell_type": "code",
   "execution_count": 28,
   "id": "82c3a8b7",
   "metadata": {},
   "outputs": [
    {
     "name": "stdout",
     "output_type": "stream",
     "text": [
      "[ 0  3  6  9 12 15 18 21 24 27 30 33 36 39 42 45 48]\n"
     ]
    }
   ],
   "source": [
    "arr=np.arange(0,50,3)\n",
    "print(arr)"
   ]
  },
  {
   "cell_type": "code",
   "execution_count": 33,
   "id": "0d38840b",
   "metadata": {},
   "outputs": [
    {
     "name": "stdout",
     "output_type": "stream",
     "text": [
      "[ 0.          0.68965517  1.37931034  2.06896552  2.75862069  3.44827586\n",
      "  4.13793103  4.82758621  5.51724138  6.20689655  6.89655172  7.5862069\n",
      "  8.27586207  8.96551724  9.65517241 10.34482759 11.03448276 11.72413793\n",
      " 12.4137931  13.10344828 13.79310345 14.48275862 15.17241379 15.86206897\n",
      " 16.55172414 17.24137931 17.93103448 18.62068966 19.31034483 20.        ] 30\n"
     ]
    }
   ],
   "source": [
    "arr=np.linspace(0,20,30)\n",
    "print(arr,arr.size)"
   ]
  },
  {
   "cell_type": "code",
   "execution_count": 45,
   "id": "313d04b5",
   "metadata": {},
   "outputs": [
    {
     "name": "stdout",
     "output_type": "stream",
     "text": [
      "[[0.46510065 0.47647658 0.46551683 0.50469113 0.23707322]\n",
      " [0.68190873 0.29444908 0.45845621 0.75316898 0.32766788]\n",
      " [0.0918075  0.19272818 0.48050017 0.73722132 0.78071192]\n",
      " [0.37575737 0.95979711 0.70123744 0.64680229 0.22671756]\n",
      " [0.85380648 0.30226438 0.80760972 0.5237955  0.67747041]] 25\n"
     ]
    }
   ],
   "source": [
    "arr=np.random.rand(5,5)\n",
    "print(arr,arr.size)"
   ]
  },
  {
   "cell_type": "code",
   "execution_count": 58,
   "id": "84df9871",
   "metadata": {},
   "outputs": [
    {
     "name": "stdout",
     "output_type": "stream",
     "text": [
      "[[49  8 61]\n",
      " [86 76 81]\n",
      " [20  4  2]]\n"
     ]
    }
   ],
   "source": [
    "arr=np.random.randint(0,100,(3,3))\n",
    "print(arr)"
   ]
  },
  {
   "cell_type": "code",
   "execution_count": 48,
   "id": "0c1e327c",
   "metadata": {},
   "outputs": [
    {
     "name": "stdout",
     "output_type": "stream",
     "text": [
      "[[0. 0. 0. 0. 0.]\n",
      " [0. 0. 0. 0. 0.]\n",
      " [0. 0. 0. 0. 0.]\n",
      " [0. 0. 0. 0. 0.]\n",
      " [0. 0. 0. 0. 0.]]\n"
     ]
    }
   ],
   "source": [
    "arr=np.zeros((5,5))\n",
    "print(arr)"
   ]
  },
  {
   "cell_type": "code",
   "execution_count": 51,
   "id": "d49c6105",
   "metadata": {},
   "outputs": [
    {
     "name": "stdout",
     "output_type": "stream",
     "text": [
      "(array([0, 1], dtype=int64),)\n"
     ]
    }
   ],
   "source": [
    "arr=np.nonzero((5,5))\n",
    "print(arr)"
   ]
  },
  {
   "cell_type": "code",
   "execution_count": 54,
   "id": "20ff563c",
   "metadata": {},
   "outputs": [
    {
     "name": "stdout",
     "output_type": "stream",
     "text": [
      "[[0 0 0]\n",
      " [0 0 0]\n",
      " [0 0 0]] int32\n"
     ]
    }
   ],
   "source": [
    "zeros=np.zeros_like(arr)\n",
    "print(zeros,zeros.dtype)\n"
   ]
  },
  {
   "cell_type": "code",
   "execution_count": 55,
   "id": "0f35bb5a",
   "metadata": {},
   "outputs": [
    {
     "name": "stdout",
     "output_type": "stream",
     "text": [
      "[[1. 1. 1. 1. 1.]\n",
      " [1. 1. 1. 1. 1.]\n",
      " [1. 1. 1. 1. 1.]\n",
      " [1. 1. 1. 1. 1.]\n",
      " [1. 1. 1. 1. 1.]]\n"
     ]
    }
   ],
   "source": [
    "arr=np.ones((5,5))\n",
    "print(arr)"
   ]
  },
  {
   "cell_type": "code",
   "execution_count": 57,
   "id": "a9f916d9",
   "metadata": {},
   "outputs": [
    {
     "name": "stdout",
     "output_type": "stream",
     "text": [
      "[[1. 1. 1. 1. 1.]\n",
      " [1. 1. 1. 1. 1.]\n",
      " [1. 1. 1. 1. 1.]\n",
      " [1. 1. 1. 1. 1.]\n",
      " [1. 1. 1. 1. 1.]]\n"
     ]
    }
   ],
   "source": [
    "empty=np.empty((5,5))\n",
    "print(empty)"
   ]
  },
  {
   "cell_type": "code",
   "execution_count": 59,
   "id": "834766a5",
   "metadata": {},
   "outputs": [
    {
     "name": "stdout",
     "output_type": "stream",
     "text": [
      "[[0 0 0]\n",
      " [0 0 0]\n",
      " [0 0 0]] int32\n"
     ]
    }
   ],
   "source": [
    "empty=np.empty_like(arr)\n",
    "print(empty,empty.dtype)"
   ]
  },
  {
   "cell_type": "code",
   "execution_count": 60,
   "id": "4321cd07",
   "metadata": {},
   "outputs": [
    {
     "name": "stdout",
     "output_type": "stream",
     "text": [
      "[[10 10 10 10]\n",
      " [10 10 10 10]\n",
      " [10 10 10 10]\n",
      " [10 10 10 10]]\n"
     ]
    }
   ],
   "source": [
    "full=np.full((4,4),10)\n",
    "print(full)"
   ]
  },
  {
   "cell_type": "code",
   "execution_count": 65,
   "id": "41690423",
   "metadata": {},
   "outputs": [
    {
     "name": "stdout",
     "output_type": "stream",
     "text": [
      "[0.24633658 0.59116047 0.81957953 0.50637184 0.19345211]\n"
     ]
    }
   ],
   "source": [
    "random=np.random.random(5)\n",
    "print(random)"
   ]
  },
  {
   "cell_type": "code",
   "execution_count": 69,
   "id": "b2ac3777",
   "metadata": {},
   "outputs": [
    {
     "name": "stdout",
     "output_type": "stream",
     "text": [
      "[0 0 0 0 0 1 1 1 1 1 2 2 2 2 2 3 3 3 3 3 4 4 4 4 4 5 5 5 5 5]\n"
     ]
    }
   ],
   "source": [
    "arr=[[0,1,2],[3,4,5]]\n",
    "print(np.repeat(arr,5))"
   ]
  },
  {
   "cell_type": "code",
   "execution_count": 70,
   "id": "79968f59",
   "metadata": {},
   "outputs": [
    {
     "name": "stdout",
     "output_type": "stream",
     "text": [
      "[[0 0 0 0 0 1 1 1 1 1 2 2 2 2 2]\n",
      " [3 3 3 3 3 4 4 4 4 4 5 5 5 5 5]]\n"
     ]
    }
   ],
   "source": [
    "arr=[[0,1,2],[3,4,5]]\n",
    "print(np.repeat(arr,5,axis=1))"
   ]
  },
  {
   "cell_type": "code",
   "execution_count": 72,
   "id": "a2a817bd",
   "metadata": {},
   "outputs": [
    {
     "name": "stdout",
     "output_type": "stream",
     "text": [
      "[[0 1 2 0 1 2 0 1 2 0 1 2 0 1 2]\n",
      " [3 4 5 3 4 5 3 4 5 3 4 5 3 4 5]\n",
      " [0 1 2 0 1 2 0 1 2 0 1 2 0 1 2]\n",
      " [3 4 5 3 4 5 3 4 5 3 4 5 3 4 5]\n",
      " [0 1 2 0 1 2 0 1 2 0 1 2 0 1 2]\n",
      " [3 4 5 3 4 5 3 4 5 3 4 5 3 4 5]\n",
      " [0 1 2 0 1 2 0 1 2 0 1 2 0 1 2]\n",
      " [3 4 5 3 4 5 3 4 5 3 4 5 3 4 5]\n",
      " [0 1 2 0 1 2 0 1 2 0 1 2 0 1 2]\n",
      " [3 4 5 3 4 5 3 4 5 3 4 5 3 4 5]]\n"
     ]
    }
   ],
   "source": [
    "arr=[[0,1,2],[3,4,5]]\n",
    "print(np.tile(arr,(5,5)))"
   ]
  },
  {
   "cell_type": "code",
   "execution_count": 74,
   "id": "e8c89237",
   "metadata": {},
   "outputs": [
    {
     "name": "stdout",
     "output_type": "stream",
     "text": [
      "[[1. 0. 0. 0. 0.]\n",
      " [0. 1. 0. 0. 0.]\n",
      " [0. 0. 1. 0. 0.]\n",
      " [0. 0. 0. 1. 0.]\n",
      " [0. 0. 0. 0. 1.]]\n"
     ]
    }
   ],
   "source": [
    "identity_matrix=np.identity(5)\n",
    "print(identity_matrix)"
   ]
  },
  {
   "cell_type": "code",
   "execution_count": 76,
   "id": "a763f719",
   "metadata": {},
   "outputs": [
    {
     "name": "stdout",
     "output_type": "stream",
     "text": [
      "[[0. 0. 0. 0. 0.]\n",
      " [1. 0. 0. 0. 0.]\n",
      " [0. 1. 0. 0. 0.]\n",
      " [0. 0. 1. 0. 0.]\n",
      " [0. 0. 0. 1. 0.]]\n"
     ]
    }
   ],
   "source": [
    "identity_matrix=np.eye(5,k=-1)\n",
    "print(identity_matrix)"
   ]
  },
  {
   "cell_type": "code",
   "execution_count": 78,
   "id": "c38151c0",
   "metadata": {},
   "outputs": [
    {
     "name": "stdout",
     "output_type": "stream",
     "text": [
      "[[0.10284188 0.40433426 0.0542784  0.20773917 0.25800895]\n",
      " [0.96088679 0.91124803 0.67571033 0.76540911 0.64844152]\n",
      " [0.93401943 0.77772076 0.57017166 0.74664448 0.76287639]\n",
      " [0.60457819 0.89052808 0.20974833 0.5217384  0.53961026]\n",
      " [0.40440425 0.09494149 0.06375295 0.49933565 0.59841592]] [0.10284188 0.91124803 0.57017166 0.5217384  0.59841592]\n"
     ]
    }
   ],
   "source": [
    "arr=np.random.rand(5,5)\n",
    "print(arr,np.diag(arr))"
   ]
  },
  {
   "cell_type": "code",
   "execution_count": 80,
   "id": "401392cc",
   "metadata": {},
   "outputs": [
    {
     "name": "stdout",
     "output_type": "stream",
     "text": [
      "[[1 0 0 0 0]\n",
      " [0 2 0 0 0]\n",
      " [0 0 3 0 0]\n",
      " [0 0 0 4 0]\n",
      " [0 0 0 0 5]]\n"
     ]
    }
   ],
   "source": [
    "arr=np.diag([1,2,3,4,5])\n",
    "print(arr)"
   ]
  },
  {
   "cell_type": "code",
   "execution_count": 81,
   "id": "c183cc50",
   "metadata": {},
   "outputs": [
    {
     "name": "stdout",
     "output_type": "stream",
     "text": [
      "[12, 30, 7, 35]\n"
     ]
    }
   ],
   "source": [
    "l1=[3,6,7,5]\n",
    "l2=[4,5,1,7]\n",
    "product=list(map(lambda x,y:x*y,l1,l2))\n",
    "print(product)"
   ]
  },
  {
   "cell_type": "code",
   "execution_count": 85,
   "id": "fd35a436",
   "metadata": {},
   "outputs": [
    {
     "name": "stdout",
     "output_type": "stream",
     "text": [
      "[12 30  7 35]\n"
     ]
    }
   ],
   "source": [
    "a1=np.array(l1)\n",
    "a2=np.array(l2)\n",
    "a3=a1*a2\n",
    "print(a3)"
   ]
  },
  {
   "cell_type": "code",
   "execution_count": 86,
   "id": "b384f98d",
   "metadata": {},
   "outputs": [
    {
     "name": "stdout",
     "output_type": "stream",
     "text": [
      "[9, 36, 49, 25]\n"
     ]
    }
   ],
   "source": [
    "ls=[i**2 for i in l1]\n",
    "print(ls)"
   ]
  },
  {
   "cell_type": "code",
   "execution_count": 91,
   "id": "525c6ebb",
   "metadata": {},
   "outputs": [
    {
     "name": "stdout",
     "output_type": "stream",
     "text": [
      "[ 9 36 49 25]\n"
     ]
    }
   ],
   "source": [
    "asq=a1**2\n",
    "print(asq)"
   ]
  },
  {
   "cell_type": "code",
   "execution_count": 93,
   "id": "e86bfdfb",
   "metadata": {},
   "outputs": [
    {
     "name": "stdout",
     "output_type": "stream",
     "text": [
      "time taken 3.2963626384735107\n"
     ]
    }
   ],
   "source": [
    "l1=[i for i in range(10000000)]\n",
    "l2=[j**2 for j in range(10000000)]\n",
    "import time\n",
    "t0=time.time()\n",
    "product=list(map(lambda x,y:x*y,l1,l2))\n",
    "t1=time.time()\n",
    "lt=t1-t0\n",
    "print(\"time taken\",t1-t0)"
   ]
  },
  {
   "cell_type": "code",
   "execution_count": 95,
   "id": "544ec7c9",
   "metadata": {},
   "outputs": [
    {
     "name": "stdout",
     "output_type": "stream",
     "text": [
      "time taken 0.0960087776184082\n"
     ]
    }
   ],
   "source": [
    "a1=np.array(l1)\n",
    "a2=np.array(l2)\n",
    "t0=time.time()\n",
    "a3=a1*a2\n",
    "t1=time.time()\n",
    "nt=t1-t0\n",
    "print(\"time taken\",t1-t0)"
   ]
  },
  {
   "cell_type": "code",
   "execution_count": 96,
   "id": "04eaf30d",
   "metadata": {},
   "outputs": [
    {
     "name": "stdout",
     "output_type": "stream",
     "text": [
      "the ratio of time taken is 34.333971541384194\n"
     ]
    }
   ],
   "source": [
    "print(\"the ratio of time taken is {}\".format(lt/nt))"
   ]
  },
  {
   "cell_type": "code",
   "execution_count": null,
   "id": "590708a5",
   "metadata": {},
   "outputs": [],
   "source": []
  }
 ],
 "metadata": {
  "kernelspec": {
   "display_name": "Python 3 (ipykernel)",
   "language": "python",
   "name": "python3"
  },
  "language_info": {
   "codemirror_mode": {
    "name": "ipython",
    "version": 3
   },
   "file_extension": ".py",
   "mimetype": "text/x-python",
   "name": "python",
   "nbconvert_exporter": "python",
   "pygments_lexer": "ipython3",
   "version": "3.10.4"
  }
 },
 "nbformat": 4,
 "nbformat_minor": 5
}
